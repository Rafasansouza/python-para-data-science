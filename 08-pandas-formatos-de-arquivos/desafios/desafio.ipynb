{
 "cells": [
  {
   "cell_type": "code",
   "execution_count": 2,
   "id": "0f153ffa",
   "metadata": {},
   "outputs": [],
   "source": [
    "import pandas as pd"
   ]
  },
  {
   "cell_type": "code",
   "execution_count": 3,
   "id": "9da88c21",
   "metadata": {},
   "outputs": [],
   "source": [
    "path = 'dados_sus.csv'"
   ]
  },
  {
   "cell_type": "code",
   "execution_count": 4,
   "id": "db867dd5",
   "metadata": {},
   "outputs": [],
   "source": [
    "dados = pd.read_csv(path, encoding='ISO-8859-1', sep=';', skiprows=3, skipfooter=9, engine='python')"
   ]
  },
  {
   "cell_type": "code",
   "execution_count": null,
   "id": "6ab7381d",
   "metadata": {},
   "outputs": [],
   "source": []
  }
 ],
 "metadata": {
  "kernelspec": {
   "display_name": "Python 3",
   "language": "python",
   "name": "python3"
  },
  "language_info": {
   "codemirror_mode": {
    "name": "ipython",
    "version": 3
   },
   "file_extension": ".py",
   "mimetype": "text/x-python",
   "name": "python",
   "nbconvert_exporter": "python",
   "pygments_lexer": "ipython3",
   "version": "3.12.1"
  }
 },
 "nbformat": 4,
 "nbformat_minor": 5
}
